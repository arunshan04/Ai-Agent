{
 "cells": [
  {
   "cell_type": "code",
   "execution_count": 1,
   "id": "1f6509b1-7603-4b79-9bcd-6dfb5a6b019a",
   "metadata": {},
   "outputs": [],
   "source": [
    "import base64\n",
    "from itertools import cycle\n",
    "\n",
    "def xor_encrypt(data: str, password: str) -> bytes:\n",
    "    return bytes([b ^ ord(p) for b, p in zip(data.encode(), cycle(password))])\n",
    "\n",
    "def xor_decrypt(data: bytes, password: str) -> str:\n",
    "    return ''.join([chr(b ^ ord(p)) for b, p in zip(data, cycle(password))])\n",
    "\n",
    "def encode_api_key(api_key: str, password: str) -> str:\n",
    "    xor_bytes = xor_encrypt(api_key, password)\n",
    "    return base64.urlsafe_b64encode(xor_bytes).decode()\n",
    "\n",
    "def decode_api_key(encoded: str, password: str) -> str:\n",
    "    xor_bytes = base64.urlsafe_b64decode(encoded)\n",
    "    return xor_decrypt(xor_bytes, password)\n",
    "# encode_api_key(apikey,encyptkey)\n",
    "\n"
   ]
  },
  {
   "cell_type": "code",
   "execution_count": 2,
   "id": "ae3bc79c-35ef-4b61-a1db-aec76c5a767d",
   "metadata": {},
   "outputs": [
    {
     "data": {
      "text/plain": [
       "True"
      ]
     },
     "execution_count": 2,
     "metadata": {},
     "output_type": "execute_result"
    }
   ],
   "source": [
    "from dotenv import load_dotenv\n",
    "import os\n",
    "import getpass\n",
    "from langchain_openai import ChatOpenAI\n",
    "from langgraph.graph import StateGraph, START, END\n",
    "from langchain_community.tools.tavily_search import TavilySearchResults\n",
    "from typing import TypedDict, List\n",
    "load_dotenv()\n",
    "\n"
   ]
  },
  {
   "cell_type": "code",
   "execution_count": 3,
   "id": "792eae06-98b9-4f4e-925d-71c06116d9f0",
   "metadata": {},
   "outputs": [
    {
     "name": "stdin",
     "output_type": "stream",
     "text": [
      "Enter Encypt/Decrypt Key>? ········\n"
     ]
    },
    {
     "name": "stdout",
     "output_type": "stream",
     "text": [
      "Decrypting .. GEMINI_API_KEY\n",
      "Decrypting .. TAVILY_API_KEY\n"
     ]
    }
   ],
   "source": [
    "key=getpass.getpass('Enter Encypt/Decrypt Key>?')\n",
    "for i in filter(lambda x:x.endswith('API_KEY'),os.environ):\n",
    "    print('Decrypting ..',i)\n",
    "    os.environ[i]=decode_api_key(os.environ.get(i), key)"
   ]
  },
  {
   "cell_type": "markdown",
   "id": "91174b5a-9369-43f3-acd7-36cdde9cece5",
   "metadata": {},
   "source": [
    "## Decrypt Keys"
   ]
  },
  {
   "cell_type": "code",
   "execution_count": 4,
   "id": "4f1c0b1c-7f5b-402a-92cc-93edfdc749f9",
   "metadata": {},
   "outputs": [
    {
     "name": "stderr",
     "output_type": "stream",
     "text": [
      "/usr/local/python/3.12.1/lib/python3.12/site-packages/tqdm/auto.py:21: TqdmWarning: IProgress not found. Please update jupyter and ipywidgets. See https://ipywidgets.readthedocs.io/en/stable/user_install.html\n",
      "  from .autonotebook import tqdm as notebook_tqdm\n",
      "/tmp/ipykernel_928/1301793142.py:6: LangChainDeprecationWarning: The class `TavilySearchResults` was deprecated in LangChain 0.3.25 and will be removed in 1.0. An updated version of the class exists in the :class:`~langchain-tavily package and should be used instead. To use it run `pip install -U :class:`~langchain-tavily` and import as `from :class:`~langchain_tavily import TavilySearch``.\n",
      "  tool = TavilySearchResults(\n"
     ]
    }
   ],
   "source": [
    "import google.generativeai as genai\n",
    "import os\n",
    "genai.configure(api_key=os.environ[\"GEMINI_API_KEY\"])\n",
    "llm = genai.GenerativeModel('gemini-1.5-flash-latest')\n",
    "\n",
    "tool = TavilySearchResults(\n",
    "    max_results=5,\n",
    "    # include_answer=True,\n",
    "    # include_raw_content=True,\n",
    "    # include_images=True,\n",
    "    # search_depth=\"advanced\",\n",
    "    # include_domains = []\n",
    "    # exclude_domains = []\n",
    "    api_key=os.environ.get('TAVILY_API_KEY')\n",
    ")\n",
    "# search_tool = TavilySearchResults(max_results=5, api_key=userdata.get('TAVILY_API_KEY'))\n"
   ]
  },
  {
   "cell_type": "code",
   "execution_count": 5,
   "id": "0674d687-9777-4439-8566-1dd66e010e35",
   "metadata": {},
   "outputs": [
    {
     "name": "stdout",
     "output_type": "stream",
     "text": [
      "['__class__', '__delattr__', '__dict__', '__dir__', '__doc__', '__eq__', '__format__', '__ge__', '__getattribute__', '__getstate__', '__gt__', '__hash__', '__init__', '__init_subclass__', '__le__', '__lt__', '__module__', '__ne__', '__new__', '__reduce__', '__reduce_ex__', '__repr__', '__setattr__', '__sizeof__', '__str__', '__subclasshook__', '__weakref__', '_async_client', '_client', '_generation_config', '_get_tools_lib', '_model_name', '_prepare_request', '_safety_settings', '_system_instruction', '_tool_config', '_tools', 'cached_content', 'count_tokens', 'count_tokens_async', 'from_cached_content', 'generate_content', 'generate_content_async', 'model_name', 'start_chat']\n"
     ]
    }
   ],
   "source": [
    "print(dir(llm))"
   ]
  },
  {
   "cell_type": "code",
   "execution_count": null,
   "id": "e4db89e6-1b07-4564-818e-204ff4a43c9c",
   "metadata": {},
   "outputs": [],
   "source": []
  },
  {
   "cell_type": "code",
   "execution_count": 46,
   "id": "c2b225a1-f051-4c03-8cb6-1c247e8956d9",
   "metadata": {},
   "outputs": [],
   "source": [
    "response = llm.generate_content('Hi')"
   ]
  },
  {
   "cell_type": "code",
   "execution_count": 176,
   "id": "77d31549-0ca3-4343-8b95-8c3cfd2208b9",
   "metadata": {},
   "outputs": [
    {
     "name": "stdout",
     "output_type": "stream",
     "text": [
      "<langgraph.graph.state.StateGraph object at 0x11fb70910>\n",
      "['InputType', 'OutputType', '__abstractmethods__', '__annotations__', '__class__', '__class_getitem__', '__delattr__', '__dict__', '__dir__', '__doc__', '__eq__', '__firstlineno__', '__format__', '__ge__', '__getattribute__', '__getstate__', '__gt__', '__hash__', '__init__', '__init_subclass__', '__le__', '__lt__', '__module__', '__ne__', '__new__', '__or__', '__orig_bases__', '__parameters__', '__reduce__', '__reduce_ex__', '__repr__', '__ror__', '__setattr__', '__sizeof__', '__slots__', '__static_attributes__', '__str__', '__subclasshook__', '__weakref__', '_abatch_with_config', '_abc_impl', '_acall_with_config', '_aprepare_state_snapshot', '_atransform_stream_with_config', '_batch_with_config', '_call_with_config', '_defaults', '_migrate_checkpoint', '_prepare_state_snapshot', '_repr_mimebundle_', '_transform_stream_with_config', 'abatch', 'abatch_as_completed', 'abulk_update_state', 'aclear_cache', 'aget_graph', 'aget_state', 'aget_state_history', 'aget_subgraphs', 'ainvoke', 'as_tool', 'assign', 'astream', 'astream_events', 'astream_log', 'atransform', 'attach_branch', 'attach_edge', 'attach_node', 'aupdate_state', 'batch', 'batch_as_completed', 'bind', 'builder', 'bulk_update_state', 'cache', 'cache_policy', 'channels', 'checkpointer', 'clear_cache', 'config', 'config_schema', 'config_specs', 'config_type', 'copy', 'debug', 'get_config_jsonschema', 'get_graph', 'get_input_jsonschema', 'get_input_schema', 'get_name', 'get_output_jsonschema', 'get_output_schema', 'get_prompts', 'get_state', 'get_state_history', 'get_subgraphs', 'input_channels', 'input_model', 'input_schema', 'interrupt_after_nodes', 'interrupt_before_nodes', 'invoke', 'map', 'name', 'nodes', 'output_channels', 'output_schema', 'pick', 'pipe', 'retry_policy', 'schema_to_mapper', 'step_timeout', 'store', 'stream', 'stream_channels', 'stream_channels_asis', 'stream_channels_list', 'stream_eager', 'stream_mode', 'transform', 'trigger_to_nodes', 'update_state', 'validate', 'with_alisteners', 'with_config', 'with_fallbacks', 'with_listeners', 'with_retry', 'with_types']\n"
     ]
    }
   ],
   "source": [
    "class State(TypedDict):\n",
    "    destination: str\n",
    "    dates: str\n",
    "    outline: str\n",
    "    research: List[str]\n",
    "    itinerary: str\n",
    "\n",
    "\n",
    "# 1. Instantiate graph with state schema\n",
    "graph = StateGraph(State)\n",
    "\n",
    "\n",
    "# 2. Define node functions\n",
    "def plan_node(state: State) -> dict:\n",
    "    prompt = (\n",
    "        f\"You are expert travel planner. Create a 5‑day outline for \"\n",
    "        f\"{state['destination']} ({state['dates']}).\"\n",
    "    )\n",
    "    outline = llm.generate_content(prompt)\n",
    "    # print(outline)\n",
    "    outline=outline.text\n",
    "    return {\"outline\": outline}\n",
    "\n",
    "def research_node(state: State) -> dict:\n",
    "    items = []\n",
    "    print('state[\"outline\"]:',state[\"outline\"])\n",
    "    for day in state[\"outline\"].splitlines():\n",
    "        q = f\"{state['destination']} {day} highlights\"\n",
    "        print(\"DEBUG SEARCH RESULT:\", tool.invoke(q))\n",
    "        snippet = tool.invoke(q)[0].get(\"snippet\", \"\")\n",
    "        items.append(snippet)\n",
    "        print(items)\n",
    "    return {\"research\": items}\n",
    "\n",
    "def generate_node(state: State) -> dict:\n",
    "    content = \"\\n\".join(state[\"research\"])\n",
    "    prompt = (\n",
    "        f\"Outline:\\n{state['outline']}\\n\\nResearch:\\n{content}\\n\\n\"\n",
    "        \"Generate a detailed day‑by‑day itinerary.\"\n",
    "    )\n",
    "    print(prompt)\n",
    "    return {\"itinerary\": llm.generate_content(prompt)}\n",
    "\n",
    "# 3. Add nodes to graph\n",
    "graph.add_node(\"plan\", plan_node)\n",
    "graph.add_node(\"gather_research\", research_node)   # ✅ renamed to avoid conflict\n",
    "graph.add_node(\"generate\", generate_node)\n",
    "\n",
    "# 4. Connect nodes with edges\n",
    "graph.add_edge(START, \"plan\")\n",
    "graph.add_edge(\"plan\", \"gather_research\")          # ✅ updated edge\n",
    "graph.add_edge(\"gather_research\", \"generate\")\n",
    "graph.add_edge(\"generate\", END)\n",
    "\n",
    "# 5. Compile graph\n",
    "planner = graph.compile()\n",
    "print(graph)\n",
    "print(dir(planner))"
   ]
  },
  {
   "cell_type": "code",
   "execution_count": 178,
   "id": "db76c281-c9a8-4513-a7ab-cdb9f0638cee",
   "metadata": {},
   "outputs": [
    {
     "name": "stdin",
     "output_type": "stream",
     "text": [
      "Destination:  Balli\n",
      "Dates (e.g. July 1‑5):  Jul 10-20\n"
     ]
    },
    {
     "name": "stdout",
     "output_type": "stream",
     "text": [
      "state[\"outline\"]: ## Bali 5-Day Itinerary (July 10-14, 2024):  A Blend of Culture, Nature & Relaxation\n",
      "\n",
      "This itinerary balances cultural experiences, natural beauty, and relaxation, catering to a moderate activity level.  It can be adjusted based on your preferences (e.g., more adventure, less cultural immersion).  July is dry season, ideal for outdoor activities.\n",
      "\n",
      "**Day 1 (July 10): Arrival & Ubud Charm**\n",
      "\n",
      "* **Morning (8:00 AM):** Arrive at Denpasar Airport (DPS), meet your pre-arranged driver (highly recommended for ease of travel), and transfer to Ubud (approx. 1.5-hour drive). Consider a private car for comfort.\n",
      "* **Late Morning (9:30 AM):** Check into your hotel/villa in Ubud. Choose accommodation based on your budget and preferences (luxury resorts, boutique hotels, or homestays are available).\n",
      "* **Afternoon (12:00 PM):** Lunch at a local Warung (small restaurant) for authentic Indonesian cuisine.  Try Nasi Goreng or Sate Lilit.\n",
      "* **Afternoon (2:00 PM):** Explore Ubud Monkey Forest – remember to protect your belongings from playful monkeys!\n",
      "* **Late Afternoon (4:00 PM):** Visit Tegalalang Rice Terraces for stunning views and Instagram-worthy photos. Consider a guided tour for deeper insights.\n",
      "* **Evening (7:00 PM):** Enjoy a traditional Balinese dance performance at Ubud Palace.  Book tickets in advance, especially during peak season.\n",
      "* **Night (9:00 PM):** Dinner at a restaurant with views overlooking the rice paddies.\n",
      "\n",
      "\n",
      "**Day 2 (July 11): Spiritual Ubud & Artistic Exploration**\n",
      "\n",
      "* **Morning (8:00 AM):** Start your day with a yoga class amidst the lush rice paddies. Many studios offer morning sessions.\n",
      "* **Late Morning (10:00 AM):** Visit Tirta Empul Temple, a sacred water temple where you can participate in a cleansing ritual (dress modestly – knees and shoulders covered).\n",
      "* **Afternoon (1:00 PM):** Lunch near Tirta Empul.\n",
      "* **Afternoon (2:30 PM):** Explore Ubud Art Market for souvenirs and local handicrafts.  Bargaining is expected.\n",
      "* **Late Afternoon (4:00 PM):** Visit a local artisan's workshop to learn about traditional Balinese art (e.g., wood carving, painting, silverwork).\n",
      "* **Evening (6:00 PM):** Enjoy a cooking class and learn to prepare some delicious Balinese dishes.\n",
      "* **Night (8:00 PM):** Relax and enjoy dinner at your hotel or a restaurant of your choice.\n",
      "\n",
      "\n",
      "**Day 3 (July 12): Volcano Views & Waterfall Wonders**\n",
      "\n",
      "* **Morning (7:00 AM):**  Early start for a day trip to Mount Batur.  Options include sunrise trekking (challenging but rewarding) or a less strenuous visit to the crater rim. Pre-book a tour including transport and a guide.\n",
      "* **Afternoon (1:00 PM):** Lunch at a local restaurant near Mount Batur.\n",
      "* **Afternoon (2:30 PM):** Visit Tegenungan Waterfall – a beautiful waterfall with opportunities for swimming (check water conditions).\n",
      "* **Late Afternoon (5:00 PM):**  Relax and enjoy the journey back to Ubud.\n",
      "* **Evening (7:00 PM):**  Dinner in Ubud – perhaps try a fine-dining experience.\n",
      "\n",
      "\n",
      "**Day 4 (July 13):  Coastal Relaxation in Seminyak**\n",
      "\n",
      "* **Morning (8:00 AM):** Check out from your Ubud accommodation and transfer to Seminyak (approx. 1.5-hour drive).\n",
      "* **Late Morning (9:30 AM):** Check into your hotel/villa in Seminyak. Choose accommodation based on your preference (beachfront resorts, stylish boutique hotels).\n",
      "* **Afternoon (12:00 PM):** Lunch at a beach club – enjoy the atmosphere and ocean views.\n",
      "* **Afternoon (2:00 PM):** Relax on Seminyak Beach, swim in the ocean, or get a massage.\n",
      "* **Late Afternoon (5:00 PM):** Explore Seminyak's shops and boutiques.\n",
      "* **Evening (7:00 PM):**  Enjoy sunset cocktails at a beachfront bar.\n",
      "* **Night (8:30 PM):** Dinner at one of Seminyak's many excellent restaurants.\n",
      "\n",
      "\n",
      "**Day 5 (July 14): Departure**\n",
      "\n",
      "* **Morning (8:00 AM):** Enjoy a final Balinese breakfast.\n",
      "* **Morning (9:00 AM):**  Depending on your flight schedule, you might have time for some last-minute souvenir shopping or a final swim.\n",
      "* **Afternoon (12:00 PM):** Check out of your hotel.\n",
      "* **Afternoon (1:00 PM):** Transfer to Denpasar Airport (DPS) for your departure.  Allow ample time for check-in and security.\n",
      "\n",
      "\n",
      "**Important Notes:**\n",
      "\n",
      "* This itinerary is a suggestion and can be customized to your interests and preferences.\n",
      "* Book accommodations and tours in advance, especially if traveling during peak season.\n",
      "* Pack light, comfortable clothing suitable for both warm weather and temple visits (modest attire for temples).\n",
      "* Stay hydrated and use sunscreen.\n",
      "* Learn a few basic Indonesian phrases.\n",
      "* Be respectful of Balinese culture and customs.\n",
      "* Consider travel insurance.\n",
      "\n",
      "\n",
      "Enjoy your incredible trip to Bali!\n",
      "\n",
      "DEBUG SEARCH RESULT: HTTPError('401 Client Error: Unauthorized for url: https://api.tavily.com/search')\n"
     ]
    },
    {
     "ename": "AttributeError",
     "evalue": "'str' object has no attribute 'get'",
     "output_type": "error",
     "traceback": [
      "\u001b[31m---------------------------------------------------------------------------\u001b[39m",
      "\u001b[31mAttributeError\u001b[39m                            Traceback (most recent call last)",
      "\u001b[36mCell\u001b[39m\u001b[36m \u001b[39m\u001b[32mIn[178]\u001b[39m\u001b[32m, line 8\u001b[39m\n\u001b[32m      1\u001b[39m state=State({\n\u001b[32m      2\u001b[39m         \u001b[33m\"\u001b[39m\u001b[33mdestination\u001b[39m\u001b[33m\"\u001b[39m: \u001b[38;5;28minput\u001b[39m(\u001b[33m\"\u001b[39m\u001b[33mDestination: \u001b[39m\u001b[33m\"\u001b[39m),\n\u001b[32m      3\u001b[39m         \u001b[33m\"\u001b[39m\u001b[33mdates\u001b[39m\u001b[33m\"\u001b[39m: \u001b[38;5;28minput\u001b[39m(\u001b[33m\"\u001b[39m\u001b[33mDates (e.g. July 1‑5): \u001b[39m\u001b[33m\"\u001b[39m),\n\u001b[32m   (...)\u001b[39m\u001b[32m      6\u001b[39m         \u001b[33m\"\u001b[39m\u001b[33mitinerary\u001b[39m\u001b[33m\"\u001b[39m: \u001b[33m\"\u001b[39m\u001b[33m\"\u001b[39m\n\u001b[32m      7\u001b[39m     })\n\u001b[32m----> \u001b[39m\u001b[32m8\u001b[39m final_state = \u001b[43mplanner\u001b[49m\u001b[43m.\u001b[49m\u001b[43minvoke\u001b[49m\u001b[43m(\u001b[49m\u001b[43mstate\u001b[49m\u001b[43m)\u001b[49m\n\u001b[32m      9\u001b[39m \u001b[38;5;28mprint\u001b[39m(\u001b[33m\"\u001b[39m\u001b[38;5;130;01m\\n\u001b[39;00m\u001b[33m🗓️ Outline:\u001b[39m\u001b[38;5;130;01m\\n\u001b[39;00m\u001b[33m\"\u001b[39m, final_state[\u001b[33m\"\u001b[39m\u001b[33moutline\u001b[39m\u001b[33m\"\u001b[39m])\n\u001b[32m     10\u001b[39m \u001b[38;5;28mprint\u001b[39m(\u001b[33m\"\u001b[39m\u001b[38;5;130;01m\\n\u001b[39;00m\u001b[33m🔍 Research:\u001b[39m\u001b[38;5;130;01m\\n\u001b[39;00m\u001b[33m\"\u001b[39m, \u001b[33m\"\u001b[39m\u001b[38;5;130;01m\\n\u001b[39;00m\u001b[33m\"\u001b[39m.join(final_state[\u001b[33m\"\u001b[39m\u001b[33mresearch\u001b[39m\u001b[33m\"\u001b[39m]))\n",
      "\u001b[36mFile \u001b[39m\u001b[32m/Volumes/Kingsman/AEN/anaconda3/envs/py313/lib/python3.13/site-packages/langgraph/pregel/__init__.py:2719\u001b[39m, in \u001b[36mPregel.invoke\u001b[39m\u001b[34m(self, input, config, stream_mode, output_keys, interrupt_before, interrupt_after, checkpoint_during, debug, **kwargs)\u001b[39m\n\u001b[32m   2716\u001b[39m chunks: \u001b[38;5;28mlist\u001b[39m[Union[\u001b[38;5;28mdict\u001b[39m[\u001b[38;5;28mstr\u001b[39m, Any], Any]] = []\n\u001b[32m   2717\u001b[39m interrupts: \u001b[38;5;28mlist\u001b[39m[Interrupt] = []\n\u001b[32m-> \u001b[39m\u001b[32m2719\u001b[39m \u001b[43m\u001b[49m\u001b[38;5;28;43;01mfor\u001b[39;49;00m\u001b[43m \u001b[49m\u001b[43mchunk\u001b[49m\u001b[43m \u001b[49m\u001b[38;5;129;43;01min\u001b[39;49;00m\u001b[43m \u001b[49m\u001b[38;5;28;43mself\u001b[39;49m\u001b[43m.\u001b[49m\u001b[43mstream\u001b[49m\u001b[43m(\u001b[49m\n\u001b[32m   2720\u001b[39m \u001b[43m    \u001b[49m\u001b[38;5;28;43minput\u001b[39;49m\u001b[43m,\u001b[49m\n\u001b[32m   2721\u001b[39m \u001b[43m    \u001b[49m\u001b[43mconfig\u001b[49m\u001b[43m,\u001b[49m\n\u001b[32m   2722\u001b[39m \u001b[43m    \u001b[49m\u001b[43mstream_mode\u001b[49m\u001b[43m=\u001b[49m\u001b[43mstream_mode\u001b[49m\u001b[43m,\u001b[49m\n\u001b[32m   2723\u001b[39m \u001b[43m    \u001b[49m\u001b[43moutput_keys\u001b[49m\u001b[43m=\u001b[49m\u001b[43moutput_keys\u001b[49m\u001b[43m,\u001b[49m\n\u001b[32m   2724\u001b[39m \u001b[43m    \u001b[49m\u001b[43minterrupt_before\u001b[49m\u001b[43m=\u001b[49m\u001b[43minterrupt_before\u001b[49m\u001b[43m,\u001b[49m\n\u001b[32m   2725\u001b[39m \u001b[43m    \u001b[49m\u001b[43minterrupt_after\u001b[49m\u001b[43m=\u001b[49m\u001b[43minterrupt_after\u001b[49m\u001b[43m,\u001b[49m\n\u001b[32m   2726\u001b[39m \u001b[43m    \u001b[49m\u001b[43mcheckpoint_during\u001b[49m\u001b[43m=\u001b[49m\u001b[43mcheckpoint_during\u001b[49m\u001b[43m,\u001b[49m\n\u001b[32m   2727\u001b[39m \u001b[43m    \u001b[49m\u001b[43mdebug\u001b[49m\u001b[43m=\u001b[49m\u001b[43mdebug\u001b[49m\u001b[43m,\u001b[49m\n\u001b[32m   2728\u001b[39m \u001b[43m    \u001b[49m\u001b[43m*\u001b[49m\u001b[43m*\u001b[49m\u001b[43mkwargs\u001b[49m\u001b[43m,\u001b[49m\n\u001b[32m   2729\u001b[39m \u001b[43m\u001b[49m\u001b[43m)\u001b[49m\u001b[43m:\u001b[49m\n\u001b[32m   2730\u001b[39m \u001b[43m    \u001b[49m\u001b[38;5;28;43;01mif\u001b[39;49;00m\u001b[43m \u001b[49m\u001b[43mstream_mode\u001b[49m\u001b[43m \u001b[49m\u001b[43m==\u001b[49m\u001b[43m \u001b[49m\u001b[33;43m\"\u001b[39;49m\u001b[33;43mvalues\u001b[39;49m\u001b[33;43m\"\u001b[39;49m\u001b[43m:\u001b[49m\n\u001b[32m   2731\u001b[39m \u001b[43m        \u001b[49m\u001b[38;5;28;43;01mif\u001b[39;49;00m\u001b[43m \u001b[49m\u001b[43m(\u001b[49m\n\u001b[32m   2732\u001b[39m \u001b[43m            \u001b[49m\u001b[38;5;28;43misinstance\u001b[39;49m\u001b[43m(\u001b[49m\u001b[43mchunk\u001b[49m\u001b[43m,\u001b[49m\u001b[43m \u001b[49m\u001b[38;5;28;43mdict\u001b[39;49m\u001b[43m)\u001b[49m\n\u001b[32m   2733\u001b[39m \u001b[43m            \u001b[49m\u001b[38;5;129;43;01mand\u001b[39;49;00m\u001b[43m \u001b[49m\u001b[43m(\u001b[49m\u001b[43mints\u001b[49m\u001b[43m \u001b[49m\u001b[43m:=\u001b[49m\u001b[43m \u001b[49m\u001b[43mchunk\u001b[49m\u001b[43m.\u001b[49m\u001b[43mget\u001b[49m\u001b[43m(\u001b[49m\u001b[43mINTERRUPT\u001b[49m\u001b[43m)\u001b[49m\u001b[43m)\u001b[49m\u001b[43m \u001b[49m\u001b[38;5;129;43;01mis\u001b[39;49;00m\u001b[43m \u001b[49m\u001b[38;5;129;43;01mnot\u001b[39;49;00m\u001b[43m \u001b[49m\u001b[38;5;28;43;01mNone\u001b[39;49;00m\n\u001b[32m   2734\u001b[39m \u001b[43m        \u001b[49m\u001b[43m)\u001b[49m\u001b[43m:\u001b[49m\n",
      "\u001b[36mFile \u001b[39m\u001b[32m/Volumes/Kingsman/AEN/anaconda3/envs/py313/lib/python3.13/site-packages/langgraph/pregel/__init__.py:2436\u001b[39m, in \u001b[36mPregel.stream\u001b[39m\u001b[34m(self, input, config, stream_mode, output_keys, interrupt_before, interrupt_after, checkpoint_during, debug, subgraphs)\u001b[39m\n\u001b[32m   2434\u001b[39m         \u001b[38;5;28;01mfor\u001b[39;00m task \u001b[38;5;129;01min\u001b[39;00m loop.match_cached_writes():\n\u001b[32m   2435\u001b[39m             loop.output_writes(task.id, task.writes, cached=\u001b[38;5;28;01mTrue\u001b[39;00m)\n\u001b[32m-> \u001b[39m\u001b[32m2436\u001b[39m \u001b[43m        \u001b[49m\u001b[38;5;28;43;01mfor\u001b[39;49;00m\u001b[43m \u001b[49m\u001b[43m_\u001b[49m\u001b[43m \u001b[49m\u001b[38;5;129;43;01min\u001b[39;49;00m\u001b[43m \u001b[49m\u001b[43mrunner\u001b[49m\u001b[43m.\u001b[49m\u001b[43mtick\u001b[49m\u001b[43m(\u001b[49m\n\u001b[32m   2437\u001b[39m \u001b[43m            \u001b[49m\u001b[43m[\u001b[49m\u001b[43mt\u001b[49m\u001b[43m \u001b[49m\u001b[38;5;28;43;01mfor\u001b[39;49;00m\u001b[43m \u001b[49m\u001b[43mt\u001b[49m\u001b[43m \u001b[49m\u001b[38;5;129;43;01min\u001b[39;49;00m\u001b[43m \u001b[49m\u001b[43mloop\u001b[49m\u001b[43m.\u001b[49m\u001b[43mtasks\u001b[49m\u001b[43m.\u001b[49m\u001b[43mvalues\u001b[49m\u001b[43m(\u001b[49m\u001b[43m)\u001b[49m\u001b[43m \u001b[49m\u001b[38;5;28;43;01mif\u001b[39;49;00m\u001b[43m \u001b[49m\u001b[38;5;129;43;01mnot\u001b[39;49;00m\u001b[43m \u001b[49m\u001b[43mt\u001b[49m\u001b[43m.\u001b[49m\u001b[43mwrites\u001b[49m\u001b[43m]\u001b[49m\u001b[43m,\u001b[49m\n\u001b[32m   2438\u001b[39m \u001b[43m            \u001b[49m\u001b[43mtimeout\u001b[49m\u001b[43m=\u001b[49m\u001b[38;5;28;43mself\u001b[39;49m\u001b[43m.\u001b[49m\u001b[43mstep_timeout\u001b[49m\u001b[43m,\u001b[49m\n\u001b[32m   2439\u001b[39m \u001b[43m            \u001b[49m\u001b[43mget_waiter\u001b[49m\u001b[43m=\u001b[49m\u001b[43mget_waiter\u001b[49m\u001b[43m,\u001b[49m\n\u001b[32m   2440\u001b[39m \u001b[43m            \u001b[49m\u001b[43mschedule_task\u001b[49m\u001b[43m=\u001b[49m\u001b[43mloop\u001b[49m\u001b[43m.\u001b[49m\u001b[43maccept_push\u001b[49m\u001b[43m,\u001b[49m\n\u001b[32m   2441\u001b[39m \u001b[43m        \u001b[49m\u001b[43m)\u001b[49m\u001b[43m:\u001b[49m\n\u001b[32m   2442\u001b[39m \u001b[43m            \u001b[49m\u001b[38;5;66;43;03m# emit output\u001b[39;49;00m\n\u001b[32m   2443\u001b[39m \u001b[43m            \u001b[49m\u001b[38;5;28;43;01myield from\u001b[39;49;00m\u001b[43m \u001b[49m\u001b[43moutput\u001b[49m\u001b[43m(\u001b[49m\u001b[43m)\u001b[49m\n\u001b[32m   2444\u001b[39m \u001b[38;5;66;03m# emit output\u001b[39;00m\n",
      "\u001b[36mCell\u001b[39m\u001b[36m \u001b[39m\u001b[32mIn[176]\u001b[39m\u001b[32m, line 30\u001b[39m, in \u001b[36mresearch_node\u001b[39m\u001b[34m(state)\u001b[39m\n\u001b[32m     28\u001b[39m q = \u001b[33mf\u001b[39m\u001b[33m\"\u001b[39m\u001b[38;5;132;01m{\u001b[39;00mstate[\u001b[33m'\u001b[39m\u001b[33mdestination\u001b[39m\u001b[33m'\u001b[39m]\u001b[38;5;132;01m}\u001b[39;00m\u001b[33m \u001b[39m\u001b[38;5;132;01m{\u001b[39;00mday\u001b[38;5;132;01m}\u001b[39;00m\u001b[33m highlights\u001b[39m\u001b[33m\"\u001b[39m\n\u001b[32m     29\u001b[39m \u001b[38;5;28mprint\u001b[39m(\u001b[33m\"\u001b[39m\u001b[33mDEBUG SEARCH RESULT:\u001b[39m\u001b[33m\"\u001b[39m, tool.invoke(q))\n\u001b[32m---> \u001b[39m\u001b[32m30\u001b[39m snippet = \u001b[43mtool\u001b[49m\u001b[43m.\u001b[49m\u001b[43minvoke\u001b[49m\u001b[43m(\u001b[49m\u001b[43mq\u001b[49m\u001b[43m)\u001b[49m\u001b[43m[\u001b[49m\u001b[32;43m0\u001b[39;49m\u001b[43m]\u001b[49m\u001b[43m.\u001b[49m\u001b[43mget\u001b[49m(\u001b[33m\"\u001b[39m\u001b[33msnippet\u001b[39m\u001b[33m\"\u001b[39m, \u001b[33m\"\u001b[39m\u001b[33m\"\u001b[39m)\n\u001b[32m     31\u001b[39m items.append(snippet)\n\u001b[32m     32\u001b[39m \u001b[38;5;28mprint\u001b[39m(items)\n",
      "\u001b[31mAttributeError\u001b[39m: 'str' object has no attribute 'get'",
      "During task with name 'gather_research' and id 'f8035671-4263-84eb-ce7b-bcce61116d38'"
     ]
    }
   ],
   "source": [
    "state=State({\n",
    "        \"destination\": input(\"Destination: \"),\n",
    "        \"dates\": input(\"Dates (e.g. July 1‑5): \"),\n",
    "        \"outline\": \"\",\n",
    "        \"research\": [],\n",
    "        \"itinerary\": \"\"\n",
    "    })\n",
    "final_state = planner.invoke(state)\n",
    "print(\"\\n🗓️ Outline:\\n\", final_state[\"outline\"])\n",
    "print(\"\\n🔍 Research:\\n\", \"\\n\".join(final_state[\"research\"]))\n",
    "print(\"\\n📋 Itinerary:\\n\", final_state[\"itinerary\"])"
   ]
  },
  {
   "cell_type": "code",
   "execution_count": null,
   "id": "935706ff-5927-4bb2-9177-1f549bec2002",
   "metadata": {},
   "outputs": [],
   "source": [
    "state"
   ]
  },
  {
   "cell_type": "markdown",
   "id": "284def47-544a-49ce-a018-8d35e09d9709",
   "metadata": {},
   "source": [
    "#"
   ]
  },
  {
   "cell_type": "markdown",
   "id": "5ba19396-edac-456c-b968-740461375278",
   "metadata": {},
   "source": [
    "# all"
   ]
  }
 ],
 "metadata": {
  "kernelspec": {
   "display_name": "Python 3 (ipykernel)",
   "language": "python",
   "name": "python3"
  },
  "language_info": {
   "codemirror_mode": {
    "name": "ipython",
    "version": 3
   },
   "file_extension": ".py",
   "mimetype": "text/x-python",
   "name": "python",
   "nbconvert_exporter": "python",
   "pygments_lexer": "ipython3",
   "version": "3.12.1"
  },
  "widgets": {
   "application/vnd.jupyter.widget-state+json": {
    "state": {},
    "version_major": 2,
    "version_minor": 0
   }
  }
 },
 "nbformat": 4,
 "nbformat_minor": 5
}
